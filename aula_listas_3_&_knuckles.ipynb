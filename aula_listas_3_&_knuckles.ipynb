{
  "nbformat": 4,
  "nbformat_minor": 0,
  "metadata": {
    "colab": {
      "provenance": [],
      "authorship_tag": "ABX9TyNeEa5LpqBrmUiDuva+K+Jf",
      "include_colab_link": true
    },
    "kernelspec": {
      "name": "python3",
      "display_name": "Python 3"
    },
    "language_info": {
      "name": "python"
    }
  },
  "cells": [
    {
      "cell_type": "markdown",
      "metadata": {
        "id": "view-in-github",
        "colab_type": "text"
      },
      "source": [
        "<a href=\"https://colab.research.google.com/github/Guil2203/true-college-struggles/blob/python/aula_listas_3_%26_knuckles.ipynb\" target=\"_parent\"><img src=\"https://colab.research.google.com/assets/colab-badge.svg\" alt=\"Open In Colab\"/></a>"
      ]
    },
    {
      "cell_type": "markdown",
      "source": [
        "got separated from my friends because we're supposed to be in different classrooms 😞\n",
        "\\\n",
        "but luckily today i'm studying python **LET'S** ***G***\n",
        "\\\n",
        "\\\n",
        "\\\n",
        "holy fuck we're still learning about lists"
      ],
      "metadata": {
        "id": "t2YoPkVNFLnk"
      }
    },
    {
      "cell_type": "code",
      "execution_count": null,
      "metadata": {
        "colab": {
          "base_uri": "https://localhost:8080/"
        },
        "id": "eyrK1QCDFKPV",
        "outputId": "58641cdf-14b9-497f-d83a-9e88c652290e"
      },
      "outputs": [
        {
          "output_type": "stream",
          "name": "stdout",
          "text": [
            "put in a number: 2\n",
            "0\n",
            "1\n",
            "2\n",
            "0\n"
          ]
        }
      ],
      "source": [
        "# make the user insert a number and then print every whole number all the way up to the one the user wrote\n",
        "numbers = []\n",
        "num = int(input('put in a number: '))\n",
        "cont = 0\n",
        "while(cont <= num):\n",
        "  if(num > 1):\n",
        "    print(cont)\n",
        "  else:\n",
        "    print('put in a number BIGGER than 1: ')\n",
        "  cont+=1"
      ]
    },
    {
      "cell_type": "code",
      "source": [
        "# i forgot what this does\n",
        "numbers = []\n",
        "num = int(input('put in a number: '))\n",
        "cont = 0\n",
        "while(cont <= num):\n",
        "  numbers.append(cont)\n",
        "  cont+=1\n",
        "print(sum(numbers))"
      ],
      "metadata": {
        "colab": {
          "base_uri": "https://localhost:8080/"
        },
        "id": "KFFQRR8LNIDI",
        "outputId": "e083bbae-03db-4da5-be61-23c2184e3464"
      },
      "execution_count": null,
      "outputs": [
        {
          "output_type": "stream",
          "name": "stdout",
          "text": [
            "put in a number: 120\n",
            "7260\n"
          ]
        }
      ]
    },
    {
      "cell_type": "code",
      "source": [
        "# ask for the user's password, give 5 chances for the user to put in the correct one\n",
        "# Dawg How Do I Do This !!\n",
        "correctPassword = 'wraugh123'\n",
        "attemptPassword = input('alright gimme ur password: ')\n",
        "cont = 0\n",
        "while (cont < 3):\n",
        "  cont+=1\n",
        "  if(attemptPassword == correctPassword):\n",
        "    break\n",
        "  else:\n",
        "    print('WROOOONG')\n",
        "    attemptPassword = input('you missed that one! Try Another: ')\n",
        "\n",
        "if(cont == 3):\n",
        "  print('YOU DONE FUCKED UP.')\n",
        "else:\n",
        "  print('your did it')"
      ],
      "metadata": {
        "colab": {
          "base_uri": "https://localhost:8080/"
        },
        "id": "xqtaq1bVPU38",
        "outputId": "942ee83a-7c1a-49e4-d7c5-52acad222477"
      },
      "execution_count": null,
      "outputs": [
        {
          "output_type": "stream",
          "name": "stdout",
          "text": [
            "alright gimme ur password: a\n",
            "WROOOONG\n",
            "you missed that one! Try Another: a\n",
            "WROOOONG\n",
            "you missed that one! Try Another: a\n",
            "WROOOONG\n",
            "you missed that one! Try Another: a\n",
            "YOU DONE FUCKED UP.\n"
          ]
        }
      ]
    },
    {
      "cell_type": "code",
      "source": [
        "# test the user's entry\n",
        "# isdigit() verifies if the input is a number or not\n",
        "num = input('type in a number: ')\n",
        "num.isdigit()"
      ],
      "metadata": {
        "id": "WB5XrKVNYlbk"
      },
      "execution_count": null,
      "outputs": []
    },
    {
      "cell_type": "code",
      "source": [
        "# idk what this does\n",
        "name.isalpha()"
      ],
      "metadata": {
        "id": "aPOIUx6AcSma"
      },
      "execution_count": null,
      "outputs": []
    },
    {
      "cell_type": "code",
      "source": [
        "# ask the user for a name, if it is then print \"Wrong Entry\"\n",
        "name = input(\"What's your name, Fool: \")\n",
        "if (name.isdigit()):\n",
        "  print('WRONG ENTRY')\n",
        "else:\n",
        "  print(f'the name {name} was put in Successfully :)')"
      ],
      "metadata": {
        "colab": {
          "base_uri": "https://localhost:8080/"
        },
        "id": "RRns0b_SZRsU",
        "outputId": "a57c19b4-d40d-462b-c51d-90bcc7075bd5"
      },
      "execution_count": null,
      "outputs": [
        {
          "output_type": "stream",
          "name": "stdout",
          "text": [
            "What's your name, Fool: a\n",
            "the name a was put in Successfully :)\n"
          ]
        }
      ]
    },
    {
      "cell_type": "code",
      "source": [
        "# ask the user to put in animal names in 'animals' list\n",
        "# ends when the user inputs a number\n",
        "# in the end, show the list\n",
        "animals = []\n",
        "addAnimal = input('gimme an animal: ')\n",
        "if (addAnimal.isdigit()):\n",
        "  print(\"THAT'S NOT AN ANIMAL. DIE\")\n",
        "  print(\"animals: \", animals)\n",
        "else:\n",
        "  animals.append(addAnimal)\n",
        "  addAnimal = input('gimme another animal: ')\n",
        "  print(\"animals: \", animals)\n",
        "\n",
        "# i was supposed to use 'while' LOL\n",
        "# it's joever"
      ],
      "metadata": {
        "colab": {
          "base_uri": "https://localhost:8080/"
        },
        "id": "3z29_E9Sa7yE",
        "outputId": "8208437b-efe6-4634-bcd3-dc024150f4eb"
      },
      "execution_count": null,
      "outputs": [
        {
          "output_type": "stream",
          "name": "stdout",
          "text": [
            "gimme an animal: Neli\n",
            "gimme another animal: Lahn\n",
            "animals:  ['Neli']\n"
          ]
        }
      ]
    },
    {
      "cell_type": "code",
      "source": [
        "# the CORRECT version\n",
        "animals = []\n",
        "addAnimal = input('gimme an animal: ')\n",
        "\n",
        "while (addAnimal.isdigit() == False):\n",
        "  animals.append(addAnimal)\n",
        "  addAnimal = input('gimme another animal: ')\n",
        "else:\n",
        "  print(\"THAT'S NOT AN ANIMAL. DIE\")\n",
        "\n",
        "animals"
      ],
      "metadata": {
        "colab": {
          "base_uri": "https://localhost:8080/"
        },
        "id": "oKYhqGTcdLfq",
        "outputId": "705c6506-e667-4c31-aba3-b8ae418045ae"
      },
      "execution_count": null,
      "outputs": [
        {
          "output_type": "stream",
          "name": "stdout",
          "text": [
            "gimme an animal: 1\n",
            "THAT'S NOT AN ANIMAL. DIE\n"
          ]
        },
        {
          "output_type": "execute_result",
          "data": {
            "text/plain": [
              "[]"
            ]
          },
          "metadata": {},
          "execution_count": 25
        }
      ]
    }
  ]
}