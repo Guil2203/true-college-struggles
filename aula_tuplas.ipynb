{
  "nbformat": 4,
  "nbformat_minor": 0,
  "metadata": {
    "colab": {
      "provenance": [],
      "authorship_tag": "ABX9TyN4z1Tu7ILm9sk7tFzLwfe6",
      "include_colab_link": true
    },
    "kernelspec": {
      "name": "python3",
      "display_name": "Python 3"
    },
    "language_info": {
      "name": "python"
    }
  },
  "cells": [
    {
      "cell_type": "markdown",
      "metadata": {
        "id": "view-in-github",
        "colab_type": "text"
      },
      "source": [
        "<a href=\"https://colab.research.google.com/github/Guil2203/true-college-struggles/blob/python/aula_tuplas.ipynb\" target=\"_parent\"><img src=\"https://colab.research.google.com/assets/colab-badge.svg\" alt=\"Open In Colab\"/></a>"
      ]
    },
    {
      "cell_type": "markdown",
      "source": [
        "[teacher's github](https://github.com/ramonparaiba/Aulas-Logica-de-Programcao-e-Algoritmos/blob/main/Aula_006_Colecoes.ipynb)"
      ],
      "metadata": {
        "id": "2-Fq-fByXCkG"
      }
    },
    {
      "cell_type": "code",
      "execution_count": 1,
      "metadata": {
        "colab": {
          "base_uri": "https://localhost:8080/"
        },
        "id": "Q-Krv7HjUIKq",
        "outputId": "2c4359ab-f955-4e2d-ea3f-5d1506c506b9"
      },
      "outputs": [
        {
          "output_type": "execute_result",
          "data": {
            "text/plain": [
              "('maçã', 'banana', 'laranja', 'goiaba')"
            ]
          },
          "metadata": {},
          "execution_count": 1
        }
      ],
      "source": [
        "#uma tupla é uma coleção ordenada e imutável de elementos em python\n",
        "\n",
        "tp_frutas = ('maçã', 'banana', 'laranja', 'goiaba')\n",
        "tp_frutas"
      ]
    },
    {
      "cell_type": "code",
      "source": [
        "#tente inserir algum elemento na tupla\n",
        "#tente modificar um valor de elemento na tupla\n",
        "tp_frutas = tp_frutas + ('uva',)\n",
        "tp_frutas"
      ],
      "metadata": {
        "colab": {
          "base_uri": "https://localhost:8080/"
        },
        "id": "-xULwBdwU9pq",
        "outputId": "42092a10-7dac-4f62-888c-313aef40baef"
      },
      "execution_count": 4,
      "outputs": [
        {
          "output_type": "execute_result",
          "data": {
            "text/plain": [
              "('maçã', 'banana', 'laranja', 'goiaba', 'uva')"
            ]
          },
          "metadata": {},
          "execution_count": 4
        }
      ]
    },
    {
      "cell_type": "code",
      "source": [
        "#criando uma lista a partir de uma tupla ou uma tupla a partir de uma lista\n",
        "lst_frutas = list(tp_frutas)\n",
        "type(lst_frutas)\n",
        "lst_frutas"
      ],
      "metadata": {
        "colab": {
          "base_uri": "https://localhost:8080/"
        },
        "id": "JR2cyldzXOJN",
        "outputId": "a39ee60b-1f16-44a5-f3ee-955bf1da989e"
      },
      "execution_count": 5,
      "outputs": [
        {
          "output_type": "execute_result",
          "data": {
            "text/plain": [
              "['maçã', 'banana', 'laranja', 'goiaba', 'uva']"
            ]
          },
          "metadata": {},
          "execution_count": 5
        }
      ]
    },
    {
      "cell_type": "code",
      "source": [
        "#fatiamento (slicing)\n",
        "tp_meses = ('jan', 'fev', 'mar', 'abr', 'mai', 'jun', 'jul', 'ago', 'sep', 'out', 'nov', 'dez')\n",
        "#se quiser apenas os meses de Junho a Nov\n",
        "tp_meses[5:11]"
      ],
      "metadata": {
        "colab": {
          "base_uri": "https://localhost:8080/"
        },
        "id": "86CDD61rZWhg",
        "outputId": "8c8f8fa2-0129-4bed-ab8a-df05a50a0313"
      },
      "execution_count": 7,
      "outputs": [
        {
          "output_type": "execute_result",
          "data": {
            "text/plain": [
              "('jun', 'jul', 'ago', 'sep', 'out', 'nov')"
            ]
          },
          "metadata": {},
          "execution_count": 7
        }
      ]
    },
    {
      "cell_type": "code",
      "source": [
        "#usando o processo de fatiamento, crie uma nova tupla apenas\n",
        "#com o meses do segundo trimestre (abril - jun)\n",
        "tp_trimes = tp_meses[3:6]\n",
        "tp_trimes"
      ],
      "metadata": {
        "colab": {
          "base_uri": "https://localhost:8080/"
        },
        "id": "lqflDSd6ZpdA",
        "outputId": "c1a63df4-469d-4f61-f739-9b298bb70b51"
      },
      "execution_count": 9,
      "outputs": [
        {
          "output_type": "execute_result",
          "data": {
            "text/plain": [
              "('abr', 'mai', 'jun')"
            ]
          },
          "metadata": {},
          "execution_count": 9
        }
      ]
    },
    {
      "cell_type": "code",
      "source": [
        "#coordenadas geográficas\n",
        "coord = (-7.11532, -34.861) #joão pessoa"
      ],
      "metadata": {
        "id": "dPzRZf8la0SR"
      },
      "execution_count": null,
      "outputs": []
    },
    {
      "cell_type": "code",
      "source": [
        "#dados imutáveis\n",
        "data_criacao = (2015, 7, 6) #data de criação de um documento"
      ],
      "metadata": {
        "id": "Aew2T1LicsX1"
      },
      "execution_count": null,
      "outputs": []
    },
    {
      "cell_type": "code",
      "source": [
        "#ordenação de dados *sort(value, key = x)\n",
        "#ordenar os estados pelo DDD e não pelo nome\n",
        "uf_cod = [('PE', 81), ('RJ', 21), ('SP', 11), ('PB', 83)]\n",
        "\n",
        "sorted(uf_cod, key = lambda x :x[1])"
      ],
      "metadata": {
        "colab": {
          "base_uri": "https://localhost:8080/"
        },
        "id": "YuRVSTYXc4ik",
        "outputId": "70a4052b-27e1-4b7f-abeb-cb975604658e"
      },
      "execution_count": 10,
      "outputs": [
        {
          "output_type": "execute_result",
          "data": {
            "text/plain": [
              "[('SP', 11), ('RJ', 21), ('PE', 81), ('PB', 83)]"
            ]
          },
          "metadata": {},
          "execution_count": 10
        }
      ]
    },
    {
      "cell_type": "code",
      "source": [
        "#coloque a tupla a seguir em ordem\n",
        "#do mais novo para o mais velho\n",
        "#do mais velho para o mais novo\n",
        "nome_nasc = [('Zé', 2003), ('Maria', 1998), ('Alice', 2000)]\n",
        "sorted(nome_nasc, key = lambda x :x[1], reverse = True) #do mais novo para o mais velho"
      ],
      "metadata": {
        "colab": {
          "base_uri": "https://localhost:8080/"
        },
        "id": "3zf3lbQedj_m",
        "outputId": "508dbb79-3f00-40bf-8b2e-d7ff9627cca4"
      },
      "execution_count": 17,
      "outputs": [
        {
          "output_type": "execute_result",
          "data": {
            "text/plain": [
              "[('Maria', 1998), ('Alice', 2000), ('Zé', 2003)]"
            ]
          },
          "metadata": {},
          "execution_count": 17
        }
      ]
    },
    {
      "cell_type": "code",
      "source": [
        "sorted(nome_nasc, key = lambda x :x[1]) #do mais velho para o mais novo"
      ],
      "metadata": {
        "colab": {
          "base_uri": "https://localhost:8080/"
        },
        "id": "Qg3Wf6h_fdx6",
        "outputId": "4ddae5b0-cecc-4906-fab0-649349d7b95c"
      },
      "execution_count": 18,
      "outputs": [
        {
          "output_type": "execute_result",
          "data": {
            "text/plain": [
              "[('Maria', 1998), ('Alice', 2000), ('Zé', 2003)]"
            ]
          },
          "metadata": {},
          "execution_count": 18
        }
      ]
    },
    {
      "cell_type": "code",
      "source": [
        "#desempacotamento de valores\n",
        "def nome_idade_uf():\n",
        "  nome = 'José'\n",
        "  idade = 28\n",
        "  uf = 'RN'\n",
        "  return nome, idade, uf\n",
        "\n",
        "name, age, uf = nome_idade_uf()\n",
        "\n",
        "print (name, age, uf)"
      ],
      "metadata": {
        "colab": {
          "base_uri": "https://localhost:8080/"
        },
        "id": "vdo1IdQaleew",
        "outputId": "c6670658-4e4b-4326-854a-61fd98efe236"
      },
      "execution_count": 21,
      "outputs": [
        {
          "output_type": "stream",
          "name": "stdout",
          "text": [
            "José 28 RN\n"
          ]
        }
      ]
    },
    {
      "cell_type": "code",
      "source": [
        "#mapeamento de valores\n",
        "alunos = ('Kelly', 'Adauto', 'Marceline', 'Luana', 'Henrique')\n",
        "notas = (5.5, 8, 9, 7.5, 6.5)\n",
        "\n",
        "Av1 = tuple(zip(alunos, notas))\n",
        "dc_av1 = dict(zip(alunos, notas))\n",
        "\n",
        "dc_av1"
      ],
      "metadata": {
        "colab": {
          "base_uri": "https://localhost:8080/"
        },
        "id": "5l_yoqjknbWb",
        "outputId": "ed0534fc-6a6b-4e36-fd32-875d64d5cd38"
      },
      "execution_count": 24,
      "outputs": [
        {
          "output_type": "execute_result",
          "data": {
            "text/plain": [
              "{'Kelly': 5.5, 'Adauto': 8, 'Marceline': 9, 'Luana': 7.5, 'Henrique': 6.5}"
            ]
          },
          "metadata": {},
          "execution_count": 24
        }
      ]
    },
    {
      "cell_type": "code",
      "source": [
        "# exercício tuplas\n",
        "# 1. escreva uma função que receba duas tuplas como entrada e retorne uma única tupla que seja a concatenação das duas\n",
        "# 2. escreva uma função que receba uma tupla contendo o nome e endereço: logradouro, número e bairro de uma pessoa e retorne uma string formatada\n",
        "# 3. escreva uma função que receba uma lista de tuplas contendo nome e idade de pessoas e retorne a lista ordenada por idade"
      ],
      "metadata": {
        "id": "9prLiyc7qrT4"
      },
      "execution_count": null,
      "outputs": []
    },
    {
      "cell_type": "code",
      "source": [
        "def concatenaTupla (tp1, tp2):\n",
        "  return tp1 + tp2\n",
        "\n",
        "a = (2, 4, 5)\n",
        "b = (6, 8, 12)\n",
        "concatenaTupla(a, b)"
      ],
      "metadata": {
        "colab": {
          "base_uri": "https://localhost:8080/"
        },
        "id": "2poi2f3wt0Jr",
        "outputId": "ff970cd5-4089-4314-affc-47560855a1c0"
      },
      "execution_count": 25,
      "outputs": [
        {
          "output_type": "execute_result",
          "data": {
            "text/plain": [
              "(2, 4, 5, 6, 8, 12)"
            ]
          },
          "metadata": {},
          "execution_count": 25
        }
      ]
    },
    {
      "cell_type": "code",
      "source": [
        "def formatada(tupla):\n",
        "  nome, logradouro, num, bairro = tupla\n",
        "  return f'Nome: {nome}, residente a {logradouro}, {num}, {bairro}.'\n",
        "\n",
        "dadosCliente = ('Manoelina', 'Rua das Couves', '42', 'Torre')\n",
        "\n",
        "print (formatada(dadosCliente))"
      ],
      "metadata": {
        "colab": {
          "base_uri": "https://localhost:8080/"
        },
        "id": "LQVH2mKlvlf0",
        "outputId": "97672c9f-4e65-48b9-d9b7-d34549a4065a"
      },
      "execution_count": 27,
      "outputs": [
        {
          "output_type": "stream",
          "name": "stdout",
          "text": [
            "Nome: Manoelina, residente a Rua das Couves, 42, Torre.\n"
          ]
        }
      ]
    }
  ]
}