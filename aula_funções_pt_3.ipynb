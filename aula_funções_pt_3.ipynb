{
  "nbformat": 4,
  "nbformat_minor": 0,
  "metadata": {
    "colab": {
      "provenance": [],
      "authorship_tag": "ABX9TyNEsINM91MBwD7ErMWtfMTO",
      "include_colab_link": true
    },
    "kernelspec": {
      "name": "python3",
      "display_name": "Python 3"
    },
    "language_info": {
      "name": "python"
    }
  },
  "cells": [
    {
      "cell_type": "markdown",
      "metadata": {
        "id": "view-in-github",
        "colab_type": "text"
      },
      "source": [
        "<a href=\"https://colab.research.google.com/github/Guil2203/true-college-struggles/blob/python/aula_fun%C3%A7%C3%B5es_pt_3.ipynb\" target=\"_parent\"><img src=\"https://colab.research.google.com/assets/colab-badge.svg\" alt=\"Open In Colab\"/></a>"
      ]
    },
    {
      "cell_type": "code",
      "execution_count": null,
      "metadata": {
        "id": "XXbmuH6PIg3E"
      },
      "outputs": [],
      "source": [
        "# 1 - escreva uma função que recebe uma lista de strings e retorna:\n",
        "  ## apenas as palavras que começam com a letra A\n",
        "  ## a quantidade de palavras encontradas\n",
        "# 2 - escreva uma função que receba uma lista de números e retorne o produto desses números\n",
        "# 3 - escreva uma função que receba uma lista de números e retorne a soma dos números páres\n",
        "# 4 - função recebe uma lista de nomes, e retorna a string com o maior número de caracteres"
      ]
    },
    {
      "cell_type": "code",
      "source": [
        "# q.1\n",
        "def detectA(list):\n",
        "  \n",
        "  return newList"
      ],
      "metadata": {
        "id": "lC-QVQWUMmxJ"
      },
      "execution_count": null,
      "outputs": []
    },
    {
      "cell_type": "code",
      "source": [
        "list = ['wraugh', 'Pinball', 'luigi']\n",
        "detectA(list)"
      ],
      "metadata": {
        "colab": {
          "base_uri": "https://localhost:8080/"
        },
        "id": "Ogzg-sShPu2x",
        "outputId": "70d29f99-c51c-4c76-b973-851101ff7d04"
      },
      "execution_count": null,
      "outputs": [
        {
          "output_type": "execute_result",
          "data": {
            "text/plain": [
              "[]"
            ]
          },
          "metadata": {},
          "execution_count": 17
        }
      ]
    },
    {
      "cell_type": "code",
      "source": [
        "# q.1 teacher's solution\n",
        "def listaLetraA(palavras):\n",
        "  wordA = []\n",
        "  for i in palavras:\n",
        "    if i[0] == 'a':\n",
        "      wordA.append(i)\n",
        "  print(len(wordA))\n",
        "  return wordA"
      ],
      "metadata": {
        "id": "POwySyHHWhw9"
      },
      "execution_count": null,
      "outputs": []
    },
    {
      "cell_type": "code",
      "source": [
        "animais = ['arara', 'morcego', 'macaco', 'ariranha', 'papagaio']\n",
        "listaLetraA(animais)"
      ],
      "metadata": {
        "colab": {
          "base_uri": "https://localhost:8080/"
        },
        "id": "kZssGdehXXN9",
        "outputId": "ff2a827b-59b1-433d-b34d-6a4828c0b415"
      },
      "execution_count": null,
      "outputs": [
        {
          "output_type": "stream",
          "name": "stdout",
          "text": [
            "2\n"
          ]
        },
        {
          "output_type": "execute_result",
          "data": {
            "text/plain": [
              "['arara', 'ariranha']"
            ]
          },
          "metadata": {},
          "execution_count": 26
        }
      ]
    },
    {
      "cell_type": "code",
      "source": [
        "# 2 - escreva uma função que receba uma lista de números e retorne o produto desses números\n",
        "# teacher's solution\n",
        "def produto(numeros):\n",
        "  resultado = 1\n",
        "  for n in numeros:\n",
        "    resultado *= n\n",
        "  return resultado\n",
        "\n",
        "numerozinhos = [2, 4, 8, 16, 32]\n",
        "produto(numerozinhos)"
      ],
      "metadata": {
        "colab": {
          "base_uri": "https://localhost:8080/"
        },
        "id": "Fyu74JDNUTYq",
        "outputId": "8c53d373-5940-49bd-b0b5-dd5048f4f93f"
      },
      "execution_count": null,
      "outputs": [
        {
          "output_type": "execute_result",
          "data": {
            "text/plain": [
              "32768"
            ]
          },
          "metadata": {},
          "execution_count": 27
        }
      ]
    },
    {
      "cell_type": "code",
      "source": [
        "# 3 - escreva uma função que receba uma lista de números e retorne a soma dos números páres\n",
        "# teacher's solution\n",
        "def somatorio(numeros):\n",
        "  soma = 0\n",
        "  for n in numeros:\n",
        "    if n % 2 == 0:\n",
        "      soma += n\n",
        "    return soma"
      ],
      "metadata": {
        "id": "TSL13qw2b-Gn"
      },
      "execution_count": null,
      "outputs": []
    },
    {
      "cell_type": "code",
      "source": [
        "somatorio(numerozinhos)"
      ],
      "metadata": {
        "colab": {
          "base_uri": "https://localhost:8080/"
        },
        "id": "oNYhCXBWips-",
        "outputId": "c3470913-a325-4a01-d13e-364415b7ce4a"
      },
      "execution_count": null,
      "outputs": [
        {
          "output_type": "execute_result",
          "data": {
            "text/plain": [
              "2"
            ]
          },
          "metadata": {},
          "execution_count": 29
        }
      ]
    },
    {
      "cell_type": "code",
      "source": [
        "# 4 - função recebe uma lista de nomes, e retorna a string com o maior número de caracteres\n",
        "# teacher's solution\n",
        "users = ['zeca', 'anastacio', 'josefina', 'ivo', 'amaralin']\n",
        "\n",
        "def maiorString(users):\n",
        "  maior = ''\n",
        "  for u in users:\n",
        "    if(len(u) >= len(maior)):\n",
        "      maior = u\n",
        "  return maior\n",
        "\n",
        "maiorString(users)"
      ],
      "metadata": {
        "colab": {
          "base_uri": "https://localhost:8080/",
          "height": 35
        },
        "id": "eRftJ9L0jao3",
        "outputId": "f5a8030b-1977-40d4-be3d-9941629cb1c4"
      },
      "execution_count": null,
      "outputs": [
        {
          "output_type": "execute_result",
          "data": {
            "text/plain": [
              "'anastacio'"
            ],
            "application/vnd.google.colaboratory.intrinsic+json": {
              "type": "string"
            }
          },
          "metadata": {},
          "execution_count": 40
        }
      ]
    },
    {
      "cell_type": "markdown",
      "source": [
        "# recursão\n",
        "[estude](https://github.com/ramonparaiba/Aulas-Logica-de-Programcao-e-Algoritmos/blob/main/Aula_005_Funcoes.ipynb) depois :]"
      ],
      "metadata": {
        "id": "ix6sUD65pxcC"
      }
    },
    {
      "cell_type": "code",
      "source": [
        "#Cálculo de fatorial:\n",
        "# O fatorial de um número é o produto dele pelos seus antecessores maiores que 0:\n",
        "#Por exemplo, o fatorial de 6 é: 6! = 6*5*4*3*2*1.\n",
        "def fatorial(n):\n",
        "  if(n <= 1):\n",
        "    return 1\n",
        "  else:\n",
        "    return n * fatorial(n-1)"
      ],
      "metadata": {
        "id": "-_jUA9W4q9js"
      },
      "execution_count": null,
      "outputs": []
    },
    {
      "cell_type": "code",
      "source": [
        "fatorial(5)"
      ],
      "metadata": {
        "id": "b7Vg0xiFq_oS",
        "outputId": "e4d9fde0-d530-44f0-9171-58b554cf541f",
        "colab": {
          "base_uri": "https://localhost:8080/"
        }
      },
      "execution_count": null,
      "outputs": [
        {
          "output_type": "execute_result",
          "data": {
            "text/plain": [
              "120"
            ]
          },
          "metadata": {},
          "execution_count": 42
        }
      ]
    }
  ]
}