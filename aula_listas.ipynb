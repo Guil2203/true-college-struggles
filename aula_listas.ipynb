{
  "nbformat": 4,
  "nbformat_minor": 0,
  "metadata": {
    "colab": {
      "provenance": [],
      "authorship_tag": "ABX9TyNB82jN2heVU/pFsKxCO4tg",
      "include_colab_link": true
    },
    "kernelspec": {
      "name": "python3",
      "display_name": "Python 3"
    },
    "language_info": {
      "name": "python"
    }
  },
  "cells": [
    {
      "cell_type": "markdown",
      "metadata": {
        "id": "view-in-github",
        "colab_type": "text"
      },
      "source": [
        "<a href=\"https://colab.research.google.com/github/Guil2203/true-college-struggles/blob/main/aula_listas.ipynb\" target=\"_parent\"><img src=\"https://colab.research.google.com/assets/colab-badge.svg\" alt=\"Open In Colab\"/></a>"
      ]
    },
    {
      "cell_type": "code",
      "execution_count": null,
      "metadata": {
        "id": "VBnpbmG99DBe"
      },
      "outputs": [],
      "source": [
        "idade = int(input('Digite a idade do atleta: '))\n",
        "if(idade < 14):\n",
        "  print('Infantil')\n",
        "elif(idade < 18):\n",
        "  print('')"
      ]
    },
    {
      "cell_type": "code",
      "source": [
        "#god help me please\n",
        "num = [12, 14, 69, 17]\n",
        "len(num)"
      ],
      "metadata": {
        "colab": {
          "base_uri": "https://localhost:8080/"
        },
        "id": "-M_UmRHc_9jR",
        "outputId": "00014eaf-7d88-4a3f-c8f5-ceef1a9eedb9"
      },
      "execution_count": null,
      "outputs": [
        {
          "output_type": "execute_result",
          "data": {
            "text/plain": [
              "4"
            ]
          },
          "metadata": {},
          "execution_count": 1
        }
      ]
    },
    {
      "cell_type": "markdown",
      "source": [
        "*note to self: check out codechef later 👀*\n",
        "\n",
        "*and green press tea 👀*\n",
        "\n",
        "## 👀👀👀👀👀👀👀"
      ],
      "metadata": {
        "id": "eSk34H7kDJNT"
      }
    },
    {
      "cell_type": "code",
      "source": [
        "alunos = [\"Amanda\", \"Henrique\", \"Igor\", \"Marshall\", \"Tito\"]\n",
        "alunos[2] = \"Tyler\"\n",
        "len(alunos)"
      ],
      "metadata": {
        "colab": {
          "base_uri": "https://localhost:8080/"
        },
        "id": "-nehn0UuDOao",
        "outputId": "fe463cde-955c-4044-a36c-db45b25e44a7"
      },
      "execution_count": null,
      "outputs": [
        {
          "output_type": "execute_result",
          "data": {
            "text/plain": [
              "5"
            ]
          },
          "metadata": {},
          "execution_count": 17
        }
      ]
    },
    {
      "cell_type": "code",
      "source": [
        "alunos.append(\"Lan\")\n",
        "len(alunos)\n",
        "alunos\n",
        "#OH GOD THEY'RE CLONING THEMSELVES"
      ],
      "metadata": {
        "colab": {
          "base_uri": "https://localhost:8080/"
        },
        "id": "IqQYZ3DuFDep",
        "outputId": "6d07df67-42f4-499d-df3f-6c1d7c8afb20"
      },
      "execution_count": null,
      "outputs": [
        {
          "output_type": "execute_result",
          "data": {
            "text/plain": [
              "['Amanda',\n",
              " 'Henrique',\n",
              " 'Tyler',\n",
              " 'Marshall',\n",
              " 'Tito',\n",
              " 'Lan',\n",
              " 'Lan',\n",
              " 'Lan',\n",
              " 'Lan',\n",
              " 'Lan',\n",
              " 'Lan',\n",
              " 'Lan',\n",
              " 'Lan',\n",
              " 'Mir',\n",
              " 'Lan',\n",
              " 'Lan',\n",
              " 'Lan',\n",
              " 'Lan',\n",
              " 'Lan',\n",
              " 'Lan',\n",
              " 'Lan']"
            ]
          },
          "metadata": {},
          "execution_count": 34
        }
      ]
    },
    {
      "cell_type": "code",
      "source": [
        "alunos.append(input(\"CHOOSE YOUR CHARACTER: \"))\n",
        "alunos"
      ],
      "metadata": {
        "colab": {
          "base_uri": "https://localhost:8080/"
        },
        "id": "RKk7udv6GGHQ",
        "outputId": "0986b238-2237-4482-df9f-a099ee134291"
      },
      "execution_count": null,
      "outputs": [
        {
          "name": "stdout",
          "output_type": "stream",
          "text": [
            "CHOOSE YOUR CHARACTER: Mir\n"
          ]
        },
        {
          "output_type": "execute_result",
          "data": {
            "text/plain": [
              "['Amanda',\n",
              " 'Henrique',\n",
              " 'Tyler',\n",
              " 'Marshall',\n",
              " 'Tito',\n",
              " 'Lan',\n",
              " 'Lan',\n",
              " 'Lan',\n",
              " 'Lan',\n",
              " 'Lan',\n",
              " 'Lan',\n",
              " 'Lan',\n",
              " 'Lan',\n",
              " 'Mir']"
            ]
          },
          "metadata": {},
          "execution_count": 27
        }
      ]
    },
    {
      "cell_type": "code",
      "source": [
        "critters = [\"Hornet\", \"Elderbug\", \"Tiso\", \"Zote\"]\n",
        "living = bool(input(\"kill zote? 1 to KILL and 0 to not kill: \"))\n",
        "if bool(1):\n",
        "  del\n",
        "elif bool(0):\n",
        "  critters.\n",
        "\n",
        "if \"Zote\" in critters:\n",
        "  print('he is alive')\n",
        "else:\n",
        "  print(\"he is DEAD\")\n",
        "\n",
        "# no matter what i do he dies no matter what\n",
        "# this is so sad"
      ],
      "metadata": {
        "colab": {
          "base_uri": "https://localhost:8080/"
        },
        "id": "lm-s33eaNAaM",
        "outputId": "c2a81b23-1c90-46c6-8911-8880a865acf6"
      },
      "execution_count": 49,
      "outputs": [
        {
          "output_type": "stream",
          "name": "stdout",
          "text": [
            "kill zote? 1 to KILL and 0 to not kill: 0\n",
            "he is DEAD\n"
          ]
        }
      ]
    },
    {
      "cell_type": "code",
      "source": [
        "# NOW LET'S DO SOMETHING ELSE\n",
        "numbers = []\n",
        "for num in range(16):\n",
        "  numbers.append(num)\n",
        "\n",
        "numbers"
      ],
      "metadata": {
        "colab": {
          "base_uri": "https://localhost:8080/"
        },
        "id": "nfG5xKB-S5Fm",
        "outputId": "08726b5a-1fd5-4f9f-c7e8-7698693e47fb"
      },
      "execution_count": 55,
      "outputs": [
        {
          "output_type": "execute_result",
          "data": {
            "text/plain": [
              "[0, 1, 2, 3, 4, 5, 6, 7, 8, 9, 10, 11, 12, 13, 14, 15]"
            ]
          },
          "metadata": {},
          "execution_count": 55
        }
      ]
    },
    {
      "cell_type": "code",
      "source": [
        "double = []\n",
        "\n",
        "for num in numbers:\n",
        "  double.append(numbers[num]*2)\n",
        "\n",
        "double"
      ],
      "metadata": {
        "colab": {
          "base_uri": "https://localhost:8080/"
        },
        "id": "kUiKF0YLVK5R",
        "outputId": "ccf9b562-67b2-4b06-f74a-58d45cd2bac8"
      },
      "execution_count": 56,
      "outputs": [
        {
          "output_type": "execute_result",
          "data": {
            "text/plain": [
              "[0, 2, 4, 6, 8, 10, 12, 14, 16, 18, 20, 22, 24, 26, 28, 30]"
            ]
          },
          "metadata": {},
          "execution_count": 56
        }
      ]
    },
    {
      "cell_type": "code",
      "source": [
        "a = int(input(\"number here: \"))\n",
        "if a%2 == 0:\n",
        "  print(\"it's even!\")\n",
        "else:\n",
        "  print(\"i can't believe it's not even!\")"
      ],
      "metadata": {
        "colab": {
          "base_uri": "https://localhost:8080/"
        },
        "id": "speIgsoOXGq7",
        "outputId": "7b5a9e71-cd42-4630-c4a5-dc951e249434"
      },
      "execution_count": 60,
      "outputs": [
        {
          "output_type": "stream",
          "name": "stdout",
          "text": [
            "number here: 12897634\n",
            "it's even!\n"
          ]
        }
      ]
    },
    {
      "cell_type": "code",
      "source": [
        "for num in numbers:\n",
        "  if numbers[num]%2 == 0:\n",
        "    print(numbers[num])"
      ],
      "metadata": {
        "colab": {
          "base_uri": "https://localhost:8080/"
        },
        "id": "lGqXxeZLYBnq",
        "outputId": "95edb797-1372-47e2-dd5d-41e95872d9b9"
      },
      "execution_count": 61,
      "outputs": [
        {
          "output_type": "stream",
          "name": "stdout",
          "text": [
            "0\n",
            "2\n",
            "4\n",
            "6\n",
            "8\n",
            "10\n",
            "12\n",
            "14\n"
          ]
        }
      ]
    }
  ]
}