{
  "nbformat": 4,
  "nbformat_minor": 0,
  "metadata": {
    "colab": {
      "provenance": [],
      "authorship_tag": "ABX9TyM9w7Ohk+19l4v8F1c6FNVa",
      "include_colab_link": true
    },
    "kernelspec": {
      "name": "python3",
      "display_name": "Python 3"
    },
    "language_info": {
      "name": "python"
    }
  },
  "cells": [
    {
      "cell_type": "markdown",
      "metadata": {
        "id": "view-in-github",
        "colab_type": "text"
      },
      "source": [
        "<a href=\"https://colab.research.google.com/github/Guil2203/true-college-struggles/blob/python/aula_listas_de_novo_lmao.ipynb\" target=\"_parent\"><img src=\"https://colab.research.google.com/assets/colab-badge.svg\" alt=\"Open In Colab\"/></a>"
      ]
    },
    {
      "cell_type": "markdown",
      "source": [
        "*i need your love and i need your touch, like*\n",
        "\\\n",
        "*i need a bolt of lightning from the sky above, i've*\n",
        "\\\n",
        "_been thinkin' about ya, thinkin' about ya, i can't escape you, oh_\n",
        "\\\n",
        "_thinkin' about ya, thinkin' about ya, i can't escape you, **WRAAAAUGH**_\n",
        "\\\n",
        "\\\n",
        "good song :)"
      ],
      "metadata": {
        "id": "cEvQBzzs_LD8"
      }
    },
    {
      "cell_type": "markdown",
      "source": [
        "reminder to self: [codingbat](https://codingbat.com/) seems cool, i should check it out later\n",
        "\\\n",
        "[teacher's site](https://pabloramon.com.br/)"
      ],
      "metadata": {
        "id": "GjPWes6zAWSL"
      }
    },
    {
      "cell_type": "code",
      "execution_count": null,
      "metadata": {
        "colab": {
          "base_uri": "https://localhost:8080/"
        },
        "id": "PiOqOYbT_Aup",
        "outputId": "4ff2c71e-0fc1-4d98-e4da-7c814a8ef40a"
      },
      "outputs": [
        {
          "output_type": "stream",
          "name": "stdout",
          "text": [
            "Banana\n"
          ]
        }
      ],
      "source": [
        "fruta_old='Banana'\n",
        "print(fruta_old)\n",
        "#this piece of code Refuses to work for a classmate even though it works just fine for me and i wrote exactly what was on his screen?????\n",
        "#turns out it was just colab shitting itself lmoa"
      ]
    },
    {
      "cell_type": "code",
      "source": [
        "#lists again :]\n",
        "frutas = ['jaca', 'manga', 'morango', 'pinha', 'goiaba']"
      ],
      "metadata": {
        "id": "uDIlO5MTEZtC"
      },
      "execution_count": null,
      "outputs": []
    },
    {
      "cell_type": "code",
      "source": [
        "for i in frutas:\n",
        "  print(i)"
      ],
      "metadata": {
        "colab": {
          "base_uri": "https://localhost:8080/"
        },
        "id": "Jp2R-m7LFPrp",
        "outputId": "01c53977-c926-40fa-8c73-ce3dc2c2d1b6"
      },
      "execution_count": null,
      "outputs": [
        {
          "output_type": "stream",
          "name": "stdout",
          "text": [
            "jaca\n",
            "manga\n",
            "morango\n",
            "pinha\n",
            "goiaba\n"
          ]
        }
      ]
    },
    {
      "cell_type": "code",
      "source": [
        "for i in frutas:\n",
        "  if(i == 'morango'):\n",
        "    print(i)"
      ],
      "metadata": {
        "colab": {
          "base_uri": "https://localhost:8080/"
        },
        "id": "qbcyWaAhGBtp",
        "outputId": "d25915ef-3964-4fd5-93ae-be38ae1d008a"
      },
      "execution_count": null,
      "outputs": [
        {
          "output_type": "stream",
          "name": "stdout",
          "text": [
            "morango\n"
          ]
        }
      ]
    },
    {
      "cell_type": "code",
      "source": [
        "fruta = input('insert fruit: ')\n",
        "frutas.append(fruta)\n",
        "frutas"
      ],
      "metadata": {
        "colab": {
          "base_uri": "https://localhost:8080/"
        },
        "id": "VtxZGhqMHe4T",
        "outputId": "7e0216e3-2cbf-4f0d-ccc9-cd6f103bf518"
      },
      "execution_count": null,
      "outputs": [
        {
          "name": "stdout",
          "output_type": "stream",
          "text": [
            "insert fruit: graviola\n"
          ]
        },
        {
          "output_type": "execute_result",
          "data": {
            "text/plain": [
              "['jaca', 'manga', 'morango', 'pinha', 'goiaba', 'graviola']"
            ]
          },
          "metadata": {},
          "execution_count": 12
        }
      ]
    },
    {
      "cell_type": "code",
      "source": [
        "notas = [8, 9, 3, 4, 7, 10, 3, 6, 7]"
      ],
      "metadata": {
        "id": "FyQKOHNOIWE7"
      },
      "execution_count": null,
      "outputs": []
    },
    {
      "cell_type": "code",
      "source": [
        "for nota in notas:\n",
        "  if(nota >= 7):\n",
        "    print(nota)"
      ],
      "metadata": {
        "colab": {
          "base_uri": "https://localhost:8080/"
        },
        "id": "ruqK5ZElIkoT",
        "outputId": "6d868476-f7dc-43bf-9683-eac35526d83a"
      },
      "execution_count": null,
      "outputs": [
        {
          "output_type": "stream",
          "name": "stdout",
          "text": [
            "8\n",
            "9\n",
            "7\n",
            "10\n",
            "7\n"
          ]
        }
      ]
    },
    {
      "cell_type": "code",
      "source": [
        "#exiba a quantidade de aprovados e de reprovados\n",
        "for nota in notas:\n",
        "  if(nota >= 7):\n",
        "    print(\"aprovado!\")\n",
        "  elif(nota < 7):\n",
        "    print(\"reprovado!\")"
      ],
      "metadata": {
        "colab": {
          "base_uri": "https://localhost:8080/"
        },
        "id": "VvK_y9C-JN2b",
        "outputId": "9654ec62-8c8a-413b-e101-105ec54e6389"
      },
      "execution_count": null,
      "outputs": [
        {
          "output_type": "stream",
          "name": "stdout",
          "text": [
            "aprovado!\n",
            "aprovado!\n",
            "reprovado!\n",
            "reprovado!\n",
            "aprovado!\n",
            "aprovado!\n",
            "reprovado!\n",
            "reprovado!\n",
            "aprovado!\n"
          ]
        }
      ]
    },
    {
      "cell_type": "code",
      "source": [
        "#the actual solution Apparently\n",
        "aprovados = 0\n",
        "reprovados = 0\n",
        "for nota in notas:\n",
        "  if(nota>=7):\n",
        "    aprovados += 1\n",
        "  else:\n",
        "    reprovados += 1\n",
        "print(\"Aprovados: \", aprovados)\n",
        "print(\"Reprovados: \", reprovados)"
      ],
      "metadata": {
        "colab": {
          "base_uri": "https://localhost:8080/"
        },
        "id": "Mta9xEbdMDrA",
        "outputId": "d18b78fe-3171-4232-e432-a5cbfb7e3203"
      },
      "execution_count": null,
      "outputs": [
        {
          "output_type": "stream",
          "name": "stdout",
          "text": [
            "Aprovados:  5\n",
            "Reprovados:  4\n"
          ]
        }
      ]
    },
    {
      "cell_type": "code",
      "source": [
        "#time for Laço While:tm:\n",
        "cont = 1\n",
        "numbers = []\n",
        "\n",
        "while (cont <= 10):\n",
        "  numbers.append(cont)\n",
        "  cont += 1\n",
        "\n",
        "numbers"
      ],
      "metadata": {
        "colab": {
          "base_uri": "https://localhost:8080/"
        },
        "id": "f5N2jfWZQlZf",
        "outputId": "15077c4c-c038-45a0-ae77-633212ae1bb4"
      },
      "execution_count": null,
      "outputs": [
        {
          "output_type": "execute_result",
          "data": {
            "text/plain": [
              "[1, 2, 3, 4, 5, 6, 7, 8, 9, 10]"
            ]
          },
          "metadata": {},
          "execution_count": 22
        }
      ]
    },
    {
      "cell_type": "code",
      "source": [
        "#modifique o código anterior, para solicitar um tamanho de lista\n",
        "#X e com o laço while, crie a nova lista, o tamanho desejado\n",
        "numbers = []\n",
        "start = int(input(\"put in the starting number: \"))\n",
        "maxnum = int(input(\"put in the maximum number: \"))\n",
        "addnum = int(input(\"put in a number to add to all the numbers: \"))\n",
        "\n",
        "while (start <= maxnum):\n",
        "  numbers.append(start)\n",
        "  start += addnum\n",
        "\n",
        "numbers"
      ],
      "metadata": {
        "colab": {
          "base_uri": "https://localhost:8080/"
        },
        "id": "zKc6RQQZSZsr",
        "outputId": "0a447883-2c63-4bde-e2a8-ae9694366569"
      },
      "execution_count": null,
      "outputs": [
        {
          "name": "stdout",
          "output_type": "stream",
          "text": [
            "put in the starting number: 1\n",
            "put in the maximum number: 24\n",
            "put in a number to add to all the numbers: 2\n"
          ]
        },
        {
          "output_type": "execute_result",
          "data": {
            "text/plain": [
              "[1, 3, 5, 7, 9, 11, 13, 15, 17, 19, 21, 23]"
            ]
          },
          "metadata": {},
          "execution_count": 35
        }
      ]
    },
    {
      "cell_type": "code",
      "source": [
        "#inserir nomes de cidades\n",
        "#o laço encerra quando digitar 0\n",
        "\n",
        "cities = []\n",
        "addCity = input(\"put in a city name: \")\n",
        "\n",
        "while (addCity != '0'):\n",
        "  cities.append(addCity)\n",
        "  addCity = input(\"put in a city name (type 0 to end): \")\n",
        "else:\n",
        "  print(\"cities: \", cities)"
      ],
      "metadata": {
        "colab": {
          "base_uri": "https://localhost:8080/"
        },
        "id": "6OXKoWDdUxI2",
        "outputId": "9258fa69-b038-4f4d-acec-f245b3dec39e"
      },
      "execution_count": null,
      "outputs": [
        {
          "output_type": "stream",
          "name": "stdout",
          "text": [
            "put in a city name: a\n",
            "put in a city name (type 0 to end): b\n",
            "put in a city name (type 0 to end): c\n",
            "put in a city name (type 0 to end): d\n",
            "put in a city name (type 0 to end): 0\n",
            "cities:  ['a', 'b', 'c', 'd']\n"
          ]
        }
      ]
    },
    {
      "cell_type": "code",
      "source": [
        "#par ou impar\n",
        "num = int(input('type in a number: '))\n",
        "\n",
        "while (num >= 0):\n",
        "  if (num % 2 == 0):\n",
        "    print(\"even!\")\n",
        "    num = int(input('type in a number: '))\n",
        "  else:\n",
        "    print(\"uneven!\")\n",
        "    num = int(input('type in a number: '))\n",
        "\n",
        "print(\"oopsie! it's Joever\")"
      ],
      "metadata": {
        "colab": {
          "base_uri": "https://localhost:8080/"
        },
        "id": "P7wA6Hm6ZYpn",
        "outputId": "d6d7bd88-f69d-4518-8507-10eb3b62a38a"
      },
      "execution_count": null,
      "outputs": [
        {
          "output_type": "stream",
          "name": "stdout",
          "text": [
            "type in a number: -1\n",
            "oopsie! it's Joever\n"
          ]
        }
      ]
    }
  ]
}