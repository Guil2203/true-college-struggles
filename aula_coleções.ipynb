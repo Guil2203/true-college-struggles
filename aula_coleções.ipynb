{
  "nbformat": 4,
  "nbformat_minor": 0,
  "metadata": {
    "colab": {
      "provenance": [],
      "authorship_tag": "ABX9TyPrdHUEaBXjaH6hLl2MjQ2u",
      "include_colab_link": true
    },
    "kernelspec": {
      "name": "python3",
      "display_name": "Python 3"
    },
    "language_info": {
      "name": "python"
    }
  },
  "cells": [
    {
      "cell_type": "markdown",
      "metadata": {
        "id": "view-in-github",
        "colab_type": "text"
      },
      "source": [
        "<a href=\"https://colab.research.google.com/github/Guil2203/true-college-struggles/blob/python/aula_cole%C3%A7%C3%B5es.ipynb\" target=\"_parent\"><img src=\"https://colab.research.google.com/assets/colab-badge.svg\" alt=\"Open In Colab\"/></a>"
      ]
    },
    {
      "cell_type": "markdown",
      "source": [
        "[teacher's github for this](https://github.com/ramonparaiba/Aulas-Logica-de-Programcao-e-Algoritmos/blob/main/Aula_006_Colecoes.ipynb)"
      ],
      "metadata": {
        "id": "NdRxCJ7mcrSt"
      }
    },
    {
      "cell_type": "code",
      "execution_count": null,
      "metadata": {
        "id": "9IGgjxjhbUmt"
      },
      "outputs": [],
      "source": [
        "#criando listas\n",
        "lista_vazia = []\n",
        "\n",
        "#lista com elementos\n",
        "lista_com_coisas = [2, 4, 3, 'Zé', 'Mané']"
      ]
    },
    {
      "cell_type": "code",
      "source": [
        "#acessando elementos da lista\n",
        "lista = [1, 2, 3, \"quatro\", \"cinco\"]\n",
        "\n",
        "print(lista[0])  # 1\n",
        "print(lista[3])  # \"quatro\"\n",
        "print(lista[-1]) # \"cinco\""
      ],
      "metadata": {
        "id": "7_P1wxQpcCip"
      },
      "execution_count": null,
      "outputs": []
    },
    {
      "cell_type": "code",
      "source": [
        "#MAP map(função, iteravel)\n",
        "nums = [6, 5, 2, 1, 7]\n",
        "newList = list(map(lambda x: x*2, nums))\n",
        "newList"
      ],
      "metadata": {
        "colab": {
          "base_uri": "https://localhost:8080/"
        },
        "id": "6iHzPwzbnpBp",
        "outputId": "5396564d-c083-491a-eb85-67441c23e107"
      },
      "execution_count": 2,
      "outputs": [
        {
          "output_type": "execute_result",
          "data": {
            "text/plain": [
              "[12, 10, 4, 2, 14]"
            ]
          },
          "metadata": {},
          "execution_count": 2
        }
      ]
    },
    {
      "cell_type": "code",
      "source": [
        "#recebe os valores de uma lista numérica e \n",
        "#retorna o quadrado de cada número"
      ],
      "metadata": {
        "id": "aTW2OBzuob7p"
      },
      "execution_count": null,
      "outputs": []
    },
    {
      "cell_type": "code",
      "source": [
        "frutas = ['banana', 'pera', 'uva', 'cajá', 'manga']"
      ],
      "metadata": {
        "id": "e8ekEbpGrh7f"
      },
      "execution_count": 6,
      "outputs": []
    },
    {
      "cell_type": "code",
      "source": [
        "#recebe uma lista de frutas e\n",
        "#retorna uma lista com a quantidade de caracteres\n",
        "lenFrutas = list(map(lambda x : len(x), frutas))\n",
        "lenFrutas"
      ],
      "metadata": {
        "colab": {
          "base_uri": "https://localhost:8080/"
        },
        "id": "2fLT7BoWrpc-",
        "outputId": "1ba81933-c8c9-45de-ef7c-19a891a38b52"
      },
      "execution_count": 9,
      "outputs": [
        {
          "output_type": "execute_result",
          "data": {
            "text/plain": [
              "[6, 4, 3, 4, 5]"
            ]
          },
          "metadata": {},
          "execution_count": 9
        }
      ]
    },
    {
      "cell_type": "code",
      "source": [
        "#MAP map(função, iteravel)\n",
        "precos = [9.99, 2.50, 3.45, 7.00, 10.99]"
      ],
      "metadata": {
        "id": "Fn8HUKqFtlK_"
      },
      "execution_count": 11,
      "outputs": []
    },
    {
      "cell_type": "code",
      "source": [
        "#pegar os preços de uma lista\n",
        "#adicionar 2 a cde um deles\n",
        "newPrecos = list(map(lambda x : x+2, precos))\n",
        "newPrecos"
      ],
      "metadata": {
        "colab": {
          "base_uri": "https://localhost:8080/"
        },
        "id": "2Lcn9IZwt3vH",
        "outputId": "6d2e137d-fc86-4dd7-9fd5-fe4d4c95e2b2"
      },
      "execution_count": 12,
      "outputs": [
        {
          "output_type": "execute_result",
          "data": {
            "text/plain": [
              "[11.99, 4.5, 5.45, 9.0, 12.99]"
            ]
          },
          "metadata": {},
          "execution_count": 12
        }
      ]
    },
    {
      "cell_type": "code",
      "source": [
        "notas = [6, 7, 3.5, 9, 6.5]\n",
        "#quero apenas os aprovados....\n",
        "aprovados = list(filter(lambda x : x>=7, notas))\n",
        "\n",
        "aprovados"
      ],
      "metadata": {
        "colab": {
          "base_uri": "https://localhost:8080/"
        },
        "id": "ZKqPNEVlvukB",
        "outputId": "ae2c4d23-c52a-4c2f-cb21-6c804cd8bb00"
      },
      "execution_count": 13,
      "outputs": [
        {
          "output_type": "execute_result",
          "data": {
            "text/plain": [
              "[7, 9]"
            ]
          },
          "metadata": {},
          "execution_count": 13
        }
      ]
    }
  ]
}