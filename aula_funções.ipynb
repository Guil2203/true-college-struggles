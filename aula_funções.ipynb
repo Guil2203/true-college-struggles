{
  "nbformat": 4,
  "nbformat_minor": 0,
  "metadata": {
    "colab": {
      "provenance": [],
      "authorship_tag": "ABX9TyNKNaszlmlJONXhJPAjbIEt",
      "include_colab_link": true
    },
    "kernelspec": {
      "name": "python3",
      "display_name": "Python 3"
    },
    "language_info": {
      "name": "python"
    }
  },
  "cells": [
    {
      "cell_type": "markdown",
      "metadata": {
        "id": "view-in-github",
        "colab_type": "text"
      },
      "source": [
        "<a href=\"https://colab.research.google.com/github/Guil2203/true-college-struggles/blob/python/aula_fun%C3%A7%C3%B5es.ipynb\" target=\"_parent\"><img src=\"https://colab.research.google.com/assets/colab-badge.svg\" alt=\"Open In Colab\"/></a>"
      ]
    },
    {
      "cell_type": "code",
      "execution_count": 2,
      "metadata": {
        "id": "cL7dYOpWGAyu"
      },
      "outputs": [],
      "source": [
        "#declaração da função\n",
        "def my_first_function():\n",
        "  print('minha primeira função')"
      ]
    },
    {
      "cell_type": "code",
      "source": [
        "#chamando uma função\n",
        "my_first_function()"
      ],
      "metadata": {
        "colab": {
          "base_uri": "https://localhost:8080/"
        },
        "id": "M0cw6iAtH-vD",
        "outputId": "3b389e71-69f7-4223-e202-7c97d4260ad9"
      },
      "execution_count": 3,
      "outputs": [
        {
          "output_type": "stream",
          "name": "stdout",
          "text": [
            "minha primeira função\n"
          ]
        }
      ]
    },
    {
      "cell_type": "code",
      "source": [
        "def pronomeTratam(pronome):\n",
        "  print(pronome,\"Pablo\")\n",
        "  #apparently putting a comma there puts a space automatically, neat"
      ],
      "metadata": {
        "id": "qGtduVRrIjHL"
      },
      "execution_count": 8,
      "outputs": []
    },
    {
      "cell_type": "code",
      "source": [
        "pronomeTratam('Doutor')\n",
        "pronomeTratam('Ilmo')\n",
        "pronomeTratam('Seu')"
      ],
      "metadata": {
        "colab": {
          "base_uri": "https://localhost:8080/"
        },
        "id": "b2SzcEhiIrYp",
        "outputId": "62243d48-5593-4f63-8cf6-67fbc40e32b1"
      },
      "execution_count": 9,
      "outputs": [
        {
          "output_type": "stream",
          "name": "stdout",
          "text": [
            "Doutor Pablo\n",
            "Ilmo Pablo\n",
            "Seu Pablo\n"
          ]
        }
      ]
    },
    {
      "cell_type": "code",
      "source": [
        "def tratamNome(pronome, nome):\n",
        "  print(pronome, nome)"
      ],
      "metadata": {
        "id": "B1zVDpZhKAqq"
      },
      "execution_count": 10,
      "outputs": []
    },
    {
      "cell_type": "code",
      "source": [
        "tratamNome('Ilustríssimo', 'Canalha')"
      ],
      "metadata": {
        "colab": {
          "base_uri": "https://localhost:8080/"
        },
        "id": "77QYnKlBKO4a",
        "outputId": "4a3342b0-e26d-4cbd-dd6f-d9cc468750f4"
      },
      "execution_count": 11,
      "outputs": [
        {
          "output_type": "stream",
          "name": "stdout",
          "text": [
            "Ilustríssimo Canalha\n"
          ]
        }
      ]
    },
    {
      "cell_type": "code",
      "source": [
        "#make a program that asks for your name and your birth year, and then prints your name and then age\n",
        "def birthYear(name, year):\n",
        "  name = input(\"what's your Name, Fool: \")\n",
        "  year = int(input(\"year you were born: \"))\n",
        "  age = (year - 2023)\n",
        "  print(name, year)"
      ],
      "metadata": {
        "id": "AMfgP-G2K9re"
      },
      "execution_count": 21,
      "outputs": []
    },
    {
      "cell_type": "code",
      "source": [
        "#correct solution lmao\n",
        "def nomeEAno(nome, ano):\n",
        "  idade = 2023 - ano\n",
        "  print(nome, idade, 'anos')"
      ],
      "metadata": {
        "id": "AcGD9J_ONHtP"
      },
      "execution_count": 26,
      "outputs": []
    },
    {
      "cell_type": "code",
      "source": [
        "nomeEAno(input(\"what's your name: \"), int(input(\"when were you born: \")))"
      ],
      "metadata": {
        "colab": {
          "base_uri": "https://localhost:8080/"
        },
        "id": "8euUrkZgNgUW",
        "outputId": "535d3cf7-1744-402f-a0f0-9a46f7b6cbf1"
      },
      "execution_count": 29,
      "outputs": [
        {
          "output_type": "stream",
          "name": "stdout",
          "text": [
            "what's your name: Gui\n",
            "when were you born: 2003\n",
            "Gui 20 anos\n"
          ]
        }
      ]
    },
    {
      "cell_type": "code",
      "source": [
        "#função que recebe altura e peso e retorna o IMC\n",
        "#fórmula IMC peso/altura**2\n",
        "def IMC(peso, altura):\n",
        "  print(\"IMC:\", (peso/altura) ** 2)"
      ],
      "metadata": {
        "id": "ZuZsTUtZOPif"
      },
      "execution_count": 32,
      "outputs": []
    },
    {
      "cell_type": "code",
      "source": [
        "IMC(float(input(\"weight: \")), float(input(\"height: \")))"
      ],
      "metadata": {
        "colab": {
          "base_uri": "https://localhost:8080/"
        },
        "id": "OGFCusvJPgCZ",
        "outputId": "7194e3ff-31ca-4181-8b96-49711104f29d"
      },
      "execution_count": 34,
      "outputs": [
        {
          "output_type": "stream",
          "name": "stdout",
          "text": [
            "weight: 2.7\n",
            "height: 12.2\n",
            "IMC: 0.048978769148078485\n"
          ]
        }
      ]
    },
    {
      "cell_type": "code",
      "source": [
        "# o cálculo de juros simples é dado pela fórmula:\n",
        "# J = C * i * t\n",
        "# sendo:\n",
        "# J = juros simples\n",
        "# C = capital inicial\n",
        "# i = taxa de juros\n",
        "# t = tempo de aplicação\n",
        "# crie uma função que recebe um valor de empréstimo e o\n",
        "# tempo e retorne quanto será pago de juros ao final do período\n",
        "# use uma taxa de juros de 2.5%"
      ],
      "metadata": {
        "id": "2AhNi0gaaGld"
      },
      "execution_count": null,
      "outputs": []
    },
    {
      "cell_type": "code",
      "source": [
        "def jurosSimples(C, i, t):\n",
        "  print(\"Juros Simples:\", (C * i * t))\n",
        "  # i did it wrong xD"
      ],
      "metadata": {
        "id": "P8dHG1Kxas5G"
      },
      "execution_count": 37,
      "outputs": []
    },
    {
      "cell_type": "code",
      "source": [
        "jurosSimples(float(input(\"Capital Inicial: \")), float(input(\"Taxa de Juros: \"), int(input(\"Tempo de aplicação: \"))))"
      ],
      "metadata": {
        "colab": {
          "base_uri": "https://localhost:8080/",
          "height": 217
        },
        "id": "Sg4_TKNWcYsJ",
        "outputId": "304d8f93-438e-4b4a-fac7-f99a9148b595"
      },
      "execution_count": 42,
      "outputs": [
        {
          "name": "stdout",
          "output_type": "stream",
          "text": [
            "Capital Inicial: 1000\n",
            "Taxa de Juros: 2.5\n",
            "Tempo de aplicação: 3\n"
          ]
        },
        {
          "output_type": "error",
          "ename": "TypeError",
          "evalue": "ignored",
          "traceback": [
            "\u001b[0;31m---------------------------------------------------------------------------\u001b[0m",
            "\u001b[0;31mTypeError\u001b[0m                                 Traceback (most recent call last)",
            "\u001b[0;32m<ipython-input-42-453d71db4499>\u001b[0m in \u001b[0;36m<cell line: 1>\u001b[0;34m()\u001b[0m\n\u001b[0;32m----> 1\u001b[0;31m \u001b[0mjurosSimples\u001b[0m\u001b[0;34m(\u001b[0m\u001b[0mint\u001b[0m\u001b[0;34m(\u001b[0m\u001b[0minput\u001b[0m\u001b[0;34m(\u001b[0m\u001b[0;34m\"Capital Inicial: \"\u001b[0m\u001b[0;34m)\u001b[0m\u001b[0;34m)\u001b[0m\u001b[0;34m,\u001b[0m \u001b[0mfloat\u001b[0m\u001b[0;34m(\u001b[0m\u001b[0minput\u001b[0m\u001b[0;34m(\u001b[0m\u001b[0;34m\"Taxa de Juros: \"\u001b[0m\u001b[0;34m)\u001b[0m\u001b[0;34m,\u001b[0m \u001b[0mint\u001b[0m\u001b[0;34m(\u001b[0m\u001b[0minput\u001b[0m\u001b[0;34m(\u001b[0m\u001b[0;34m\"Tempo de aplicação: \"\u001b[0m\u001b[0;34m)\u001b[0m\u001b[0;34m)\u001b[0m\u001b[0;34m)\u001b[0m\u001b[0;34m)\u001b[0m\u001b[0;34m\u001b[0m\u001b[0;34m\u001b[0m\u001b[0m\n\u001b[0m",
            "\u001b[0;31mTypeError\u001b[0m: float expected at most 1 argument, got 2"
          ]
        }
      ]
    },
    {
      "cell_type": "code",
      "source": [
        "# programa que solicita o valor do empréstimo e o tempo\n",
        "valor = float(input('digite o valor do empréstimo: '))\n",
        "tempo = int(input('em quanto tempo? '))\n",
        "\n",
        "valorTotalEmprestimo(valor, tempo)"
      ],
      "metadata": {
        "id": "sGb-VWVagKSN"
      },
      "execution_count": null,
      "outputs": []
    }
  ]
}