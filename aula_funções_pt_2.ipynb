{
  "nbformat": 4,
  "nbformat_minor": 0,
  "metadata": {
    "colab": {
      "provenance": [],
      "authorship_tag": "ABX9TyMgii725CKnBT7YuEfbNep/",
      "include_colab_link": true
    },
    "kernelspec": {
      "name": "python3",
      "display_name": "Python 3"
    },
    "language_info": {
      "name": "python"
    }
  },
  "cells": [
    {
      "cell_type": "markdown",
      "metadata": {
        "id": "view-in-github",
        "colab_type": "text"
      },
      "source": [
        "<a href=\"https://colab.research.google.com/github/Guil2203/true-college-struggles/blob/python/aula_fun%C3%A7%C3%B5es_pt_2.ipynb\" target=\"_parent\"><img src=\"https://colab.research.google.com/assets/colab-badge.svg\" alt=\"Open In Colab\"/></a>"
      ]
    },
    {
      "cell_type": "code",
      "source": [
        "#argumentos arbitrários *args\n",
        "#quando não se tem certeza quantos argumentos são passados pela função\n",
        "\n",
        "def mediaTotal(*notas):\n",
        "  soma = 0\n",
        "  for nota in notas:\n",
        "    soma += nota\n",
        "  media = soma/len(notas)\n",
        "  print('A média é: ', round(media, 2))"
      ],
      "metadata": {
        "id": "-s85B8aNJjA1"
      },
      "execution_count": 5,
      "outputs": []
    },
    {
      "cell_type": "code",
      "source": [
        "mediaTotal(4,8,9,8,7,8,9,5,6,5,4,7,8,9,8,3)"
      ],
      "metadata": {
        "colab": {
          "base_uri": "https://localhost:8080/"
        },
        "id": "Noignb2DNj90",
        "outputId": "d2fbd134-623a-40a0-99a6-3a5681ca0ce1"
      },
      "execution_count": 6,
      "outputs": [
        {
          "output_type": "stream",
          "name": "stdout",
          "text": [
            "A média é:  6.75\n"
          ]
        }
      ]
    },
    {
      "cell_type": "code",
      "source": [
        "#recebe vários numeros e retorna o maior\n",
        "def retornaMaior(*numeros):\n",
        "  maior = 0\n",
        "  for n in numeros:\n",
        "    if(n >= maior):\n",
        "      maior = n\n",
        "  return maior"
      ],
      "metadata": {
        "id": "Hd0p6lq-QEfK"
      },
      "execution_count": 9,
      "outputs": []
    },
    {
      "cell_type": "code",
      "source": [
        "retornaMaior(2, 5, 17, 3, 23, 5)"
      ],
      "metadata": {
        "colab": {
          "base_uri": "https://localhost:8080/"
        },
        "id": "t9Afr9rca97U",
        "outputId": "400580d5-c09c-4cd1-b324-95d19267f09b"
      },
      "execution_count": 10,
      "outputs": [
        {
          "output_type": "execute_result",
          "data": {
            "text/plain": [
              "23"
            ]
          },
          "metadata": {},
          "execution_count": 10
        }
      ]
    },
    {
      "cell_type": "code",
      "source": [
        "#valor de parâmetro padrão\n",
        "def nacionalidade(country = 'Cuba'):\n",
        "  print('Eu nasci em: '+ country)"
      ],
      "metadata": {
        "id": "i4uZnFKmeV23"
      },
      "execution_count": 11,
      "outputs": []
    },
    {
      "cell_type": "code",
      "source": [
        "nacionalidade(\"Brasil\")\n",
        "nacionalidade(\"França\")\n",
        "nacionalidade(\"Vietnã\")\n",
        "nacionalidade()"
      ],
      "metadata": {
        "id": "5kYbBuS0e50v"
      },
      "execution_count": null,
      "outputs": []
    },
    {
      "cell_type": "markdown",
      "source": [
        "exercícios :(\n",
        " \n",
        "(também tá no [github](https://github.com/ramonparaiba/Aulas-Logica-de-Programcao-e-Algoritmos/blob/main/Aula_005_Funcoes.ipynb) do prof)"
      ],
      "metadata": {
        "id": "Pah_SW8IgTRG"
      }
    },
    {
      "cell_type": "code",
      "source": [
        "# EXERCÍCIOS!!\n",
        "# 1 - escreva uma função que recebe dois parâmetros numéricos e retorna a soma desses números\n",
        "# 2 - escreva uma função que recebe um número e retorna o seu valor absoluto\n",
        "# 3 - escreva uma função que recebe uma lista de números e retorna o maior número da lista\n",
        "# 4 - escreva uma função que recebe uma lista de palavras e retorna uma lista com as palavras que possuem mais de 3 letras"
      ],
      "metadata": {
        "id": "hVGFC62Ifwoq"
      },
      "execution_count": null,
      "outputs": []
    },
    {
      "cell_type": "code",
      "source": [
        "# resposta da q.1\n",
        "\n",
        "def soma(a, b):\n",
        "  return a + b"
      ],
      "metadata": {
        "id": "J-C8rzDPg7QK"
      },
      "execution_count": null,
      "outputs": []
    },
    {
      "cell_type": "code",
      "source": [
        "# resposta da q.2\n",
        "\n",
        "def valorAbsoluto(num):\n",
        "  if(num < 0):\n",
        "    num = num * -1\n",
        "  return num"
      ],
      "metadata": {
        "id": "fx2m_RuGiZ21"
      },
      "execution_count": 12,
      "outputs": []
    },
    {
      "cell_type": "code",
      "source": [
        "# resposta da q.3\n",
        "\n",
        "def retornaMaior(*numeros):\n",
        "  maior = 0\n",
        "  for n in numeros:\n",
        "    if(n >= maior):\n",
        "      maior = n\n",
        "  return maior"
      ],
      "metadata": {
        "id": "t1-XtFJdjInu"
      },
      "execution_count": null,
      "outputs": []
    },
    {
      "cell_type": "code",
      "source": [
        "#resposta da q.4\n",
        "\n",
        "def maiorque3(lista):\n",
        "  novaLista = []\n",
        "  for item in lista:\n",
        "    if(len(item) > 3):\n",
        "      novaLista.append(item)\n",
        "  return novaLista"
      ],
      "metadata": {
        "id": "UW1Ts_8qje3f"
      },
      "execution_count": 15,
      "outputs": []
    },
    {
      "cell_type": "code",
      "source": [
        "frutas = ['mangaba', 'uva', 'pinha']\n",
        "maiorque3(frutas)"
      ],
      "metadata": {
        "colab": {
          "base_uri": "https://localhost:8080/"
        },
        "id": "ix5zN3-Jkf0-",
        "outputId": "eb4e80f3-3143-45ce-a628-d0a6c1bec23a"
      },
      "execution_count": 16,
      "outputs": [
        {
          "output_type": "execute_result",
          "data": {
            "text/plain": [
              "['mangaba', 'pinha']"
            ]
          },
          "metadata": {},
          "execution_count": 16
        }
      ]
    }
  ]
}