{
  "nbformat": 4,
  "nbformat_minor": 0,
  "metadata": {
    "colab": {
      "provenance": [],
      "authorship_tag": "ABX9TyOpDvKfG8Z7pjUSlrBAdd6R",
      "include_colab_link": true
    },
    "kernelspec": {
      "name": "python3",
      "display_name": "Python 3"
    },
    "language_info": {
      "name": "python"
    }
  },
  "cells": [
    {
      "cell_type": "markdown",
      "metadata": {
        "id": "view-in-github",
        "colab_type": "text"
      },
      "source": [
        "<a href=\"https://colab.research.google.com/github/Guil2203/true-college-struggles/blob/python/aula_classes.ipynb\" target=\"_parent\"><img src=\"https://colab.research.google.com/assets/colab-badge.svg\" alt=\"Open In Colab\"/></a>"
      ]
    },
    {
      "cell_type": "markdown",
      "source": [
        "teacher's [github](https://github.com/ramonparaiba/Aulas-Logica-de-Programcao-e-Algoritmos/blob/main/Aula_007_Classes.ipynb)"
      ],
      "metadata": {
        "id": "Ix0ADjaVhutv"
      }
    },
    {
      "cell_type": "code",
      "execution_count": null,
      "metadata": {
        "id": "ythE7WMMg4bj"
      },
      "outputs": [],
      "source": [
        "class Pessoa:\n",
        "  def __init__(self, name):\n",
        "    self.name = name"
      ]
    },
    {
      "cell_type": "code",
      "source": [
        "aluno = Pessoa('Cauã')\n",
        "aluno.name"
      ],
      "metadata": {
        "colab": {
          "base_uri": "https://localhost:8080/",
          "height": 35
        },
        "id": "0yQ-4j3Shrcn",
        "outputId": "affc1a93-df2f-4743-e792-0333108a8a91"
      },
      "execution_count": null,
      "outputs": [
        {
          "output_type": "execute_result",
          "data": {
            "text/plain": [
              "'Cauã'"
            ],
            "application/vnd.google.colaboratory.intrinsic+json": {
              "type": "string"
            }
          },
          "metadata": {},
          "execution_count": 2
        }
      ]
    },
    {
      "cell_type": "code",
      "source": [
        "# criar uma classe Funcionário que tem como atributos\n",
        "# nome, cargo e matrícula\n",
        "\n",
        "class Funcionario:\n",
        "  def __init__(self, nome, cargo, matricula):\n",
        "    self.nome = nome\n",
        "    self.cargo = cargo\n",
        "    self.matricula = matricula"
      ],
      "metadata": {
        "id": "waMnMfTVik9_"
      },
      "execution_count": null,
      "outputs": []
    },
    {
      "cell_type": "code",
      "source": [
        "#instancia de Funcionario\n",
        "vend = Funcionario('Juarez', 'vendedor', 25845)\n",
        "print(f'{vend.nome}, cargo: {vend.cargo}, mat: {vend.matricula}')"
      ],
      "metadata": {
        "colab": {
          "base_uri": "https://localhost:8080/"
        },
        "id": "M0K7LXttjCAX",
        "outputId": "75ba1048-5f1a-491f-d4d9-61a19a0f11fe"
      },
      "execution_count": null,
      "outputs": [
        {
          "output_type": "stream",
          "name": "stdout",
          "text": [
            "Juarez, cargo: vendedor, mat: 25845\n"
          ]
        }
      ]
    },
    {
      "cell_type": "code",
      "source": [
        "# criar uma classe cliente contendo os atributos\n",
        "# nome, idade, sexo\n",
        "\n",
        "class Cliente:\n",
        "  def __init__(self, nome, idade, sexo):\n",
        "    self.nome = nome\n",
        "    self.idade = idade\n",
        "    self.sexo = sexo\n",
        "  def detalhe(self):\n",
        "    print(f'{self.nome}, {self.idade}, {self.sexo}')"
      ],
      "metadata": {
        "id": "V2avbnKdlpAH"
      },
      "execution_count": null,
      "outputs": []
    },
    {
      "cell_type": "code",
      "source": [
        "cli = Cliente('André', 24, 'Masculino')\n",
        "cli.detalhe()"
      ],
      "metadata": {
        "colab": {
          "base_uri": "https://localhost:8080/"
        },
        "id": "52ghp638niA6",
        "outputId": "88ff42db-9ea1-43e7-8be3-8bf15a5b6278"
      },
      "execution_count": null,
      "outputs": [
        {
          "output_type": "stream",
          "name": "stdout",
          "text": [
            "André, 24, Masculino\n"
          ]
        }
      ]
    },
    {
      "cell_type": "code",
      "source": [
        "# crie uma classe Conta com os atributos\n",
        "# titular, saldo\n",
        "# função chamada exibeSaldo\n",
        "\n",
        "class Conta:\n",
        "  def __init__(self, titular, saldo):\n",
        "    self.titular = titular\n",
        "    self.saldo = saldo\n",
        "\n",
        "  def exibeSaldo(self):\n",
        "    print(f'{self.titular}-------- R${self.saldo}')"
      ],
      "metadata": {
        "id": "7-LqhTSPonAw"
      },
      "execution_count": 18,
      "outputs": []
    },
    {
      "cell_type": "code",
      "source": [
        "conta = Conta('Pablo', 356450)\n",
        "conta.exibeSaldo()"
      ],
      "metadata": {
        "colab": {
          "base_uri": "https://localhost:8080/"
        },
        "id": "pQmFKr1vqWZA",
        "outputId": "f0d60251-c330-4412-95f4-86d84ca815cd"
      },
      "execution_count": 19,
      "outputs": [
        {
          "output_type": "stream",
          "name": "stdout",
          "text": [
            "Pablo-------- R$356450\n"
          ]
        }
      ]
    },
    {
      "cell_type": "code",
      "source": [
        "#classe Animal\n",
        "# superclass\n",
        "class Animal:\n",
        "  def __init__(self, name):\n",
        "    self.name = name\n",
        "  def emitirSom(self):\n",
        "    pass\n",
        "\n",
        "# subclass\n",
        "class Ovelha(Animal):\n",
        "  def emitirSom(self):\n",
        "    print('Béeeee')\n",
        "\n",
        "class Cachorro(Animal):\n",
        "  def emitirSom(self):\n",
        "    print('Au Au')"
      ],
      "metadata": {
        "id": "RXORgTV-sgOn"
      },
      "execution_count": 21,
      "outputs": []
    },
    {
      "cell_type": "code",
      "source": [
        "ovelhinha = Ovelha('Ana')\n",
        "caozinho = Cachorro('Doug')\n",
        "\n",
        "ovelhinha.emitirSom()\n",
        "caozinho.emitirSom()"
      ],
      "metadata": {
        "colab": {
          "base_uri": "https://localhost:8080/"
        },
        "id": "UDgBubH1unzC",
        "outputId": "7eb6ed24-819d-431e-de7f-88d174a5764b"
      },
      "execution_count": 22,
      "outputs": [
        {
          "output_type": "stream",
          "name": "stdout",
          "text": [
            "Béeeee\n",
            "Au Au\n"
          ]
        }
      ]
    },
    {
      "cell_type": "code",
      "source": [
        "# classe Veiculo com atributos\n",
        "# marca, modelo, acelerar() e freiar()"
      ],
      "metadata": {
        "id": "qkVjPPLvvSE1"
      },
      "execution_count": null,
      "outputs": []
    }
  ]
}